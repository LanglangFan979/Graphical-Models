{
 "cells": [
  {
   "cell_type": "code",
   "execution_count": 1,
   "metadata": {},
   "outputs": [],
   "source": [
    "import pandas as pd\n",
    "import numpy as np\n",
    "import matplotlib\n",
    "import matplotlib.pyplot as plt\n",
    "import random\n",
    "import math\n",
    "from tqdm import tqdm"
   ]
  },
  {
   "cell_type": "code",
   "execution_count": 2,
   "metadata": {},
   "outputs": [],
   "source": [
    "#Construct the J matrix (matrix of binary potentials)\n",
    "def find_neighbours(m,n):\n",
    "    neighbours =  [(m-1,n),(m+1,n),(m,n-1),(m,n+1)]\n",
    "    if m-1 < 0 :\n",
    "        neighbours.remove((m-1,n))\n",
    "    if m+1 > 9:\n",
    "        neighbours.remove((m+1,n))\n",
    "    if n-1 < 0 :\n",
    "        neighbours.remove((m,n-1))\n",
    "    if n+1 > 9:\n",
    "        neighbours.remove((m,n+1))\n",
    "    return neighbours"
   ]
  },
  {
   "cell_type": "code",
   "execution_count": 130,
   "metadata": {},
   "outputs": [
    {
     "data": {
      "text/plain": [
       "[(3, 4), (5, 4), (4, 3), (4, 5)]"
      ]
     },
     "execution_count": 130,
     "metadata": {},
     "output_type": "execute_result"
    }
   ],
   "source": [
    "find_neighbours(4,4)"
   ]
  },
  {
   "cell_type": "code",
   "execution_count": 56,
   "metadata": {},
   "outputs": [],
   "source": [
    "def find_neighbours(m,n):\n",
    "    neighbours =  [(m+1,n),(m,n+1)]\n",
    "    if m+1 > 9:\n",
    "        neighbours.remove((m+1,n))\n",
    "    if n+1 > 9:\n",
    "        neighbours.remove((m,n+1))\n",
    "    return neighbours"
   ]
  },
  {
   "cell_type": "code",
   "execution_count": 64,
   "metadata": {},
   "outputs": [
    {
     "name": "stdout",
     "output_type": "stream",
     "text": [
      "iteration= 0 :: free energy= 127.36136371464065\n",
      "joint prob= 0.9178622189429781\n",
      "iteration= 1 :: free energy= 178.9568132931269\n",
      "joint prob= 0.9629756621602481\n",
      "iteration= 2 :: free energy= 180.16508166859177\n",
      "joint prob= 0.9635908199739842\n",
      "iteration= 3 :: free energy= 180.175550903027\n",
      "joint prob= 0.963596477837031\n",
      "iteration= 4 :: free energy= 180.17565291962296\n",
      "joint prob= 0.9635965340013786\n",
      "iteration= 5 :: free energy= 180.17565396529082\n",
      "joint prob= 0.9635965345713464\n",
      "iteration= 6 :: free energy= 180.17565397613203\n",
      "joint prob= 0.9635965345771544\n",
      "iteration= 7 :: free energy= 180.1756539762447\n",
      "joint prob= 0.9635965345772136\n",
      "iteration= 8 :: free energy= 180.17565397624583\n",
      "joint prob= 0.9635965345772143\n",
      "iteration= 9 :: free energy= 180.17565397624583\n",
      "joint prob= 0.9635965345772143\n"
     ]
    }
   ],
   "source": [
    "#might be the right answer\n",
    "#a_mn = sum of all variables\n",
    "beta = 1\n",
    "iterations = 10\n",
    "initial_prob = 0.7\n",
    "#initialization\n",
    "x_matrix = np.random.choice([1,-1],(10,10),p=[initial_prob,1-initial_prob])\n",
    "mean_matrix = np.zeros((10,10))\n",
    "mean_matrix.fill(2*initial_prob-1)\n",
    "prob_matrix = np.zeros((10,10))\n",
    "prob_matrix.fill(initial_prob)\n",
    "for e in range(iterations):\n",
    "    free_energy = 0\n",
    "    for m in range(0,10):\n",
    "        for n in range(0,10):\n",
    "            neighbours = find_neighbours(m,n)\n",
    "            temp = 0\n",
    "            for i in range(len(neighbours)):\n",
    "                temp += mean_matrix[neighbours[i]]\n",
    "            a_mn = beta*temp\n",
    "            mean_x_mn = np.tanh(a_mn)\n",
    "            mean_matrix[m,n] = mean_x_mn\n",
    "            prob_mn = np.exp(2*a_mn)/(1+np.exp(2*a_mn))\n",
    "            prob_matrix[m,n] = prob_mn\n",
    "            free_energy += -prob_mn*np.log(prob_mn)-(1-prob_mn)*np.log(1-prob_mn)+mean_x_mn*temp*beta*0.5\n",
    "    print('iteration=',e,'::','free energy=',free_energy)\n",
    "    print('joint prob=',(prob_matrix[0,9])*prob_matrix[9,9])"
   ]
  },
  {
   "cell_type": "code",
   "execution_count": null,
   "metadata": {},
   "outputs": [],
   "source": []
  },
  {
   "cell_type": "code",
   "execution_count": 68,
   "metadata": {},
   "outputs": [
    {
     "name": "stdout",
     "output_type": "stream",
     "text": [
      "iteration= 0 :: free energy= 648.0000012771153\n",
      "joint prob= 3.4962880878733867e-20\n",
      "iteration= 1 :: free energy= 719.9999995563318\n",
      "joint prob= 1.4251640883398257e-21\n",
      "iteration= 2 :: free energy= 720.0000001137092\n",
      "joint prob= 1.4251640834953106e-21\n",
      "iteration= 3 :: free energy= 720.0000001137087\n",
      "joint prob= 1.4251640834953106e-21\n",
      "iteration= 4 :: free energy= 720.0000001137087\n",
      "joint prob= 1.4251640834953106e-21\n",
      "iteration= 5 :: free energy= 720.0000001137087\n",
      "joint prob= 1.4251640834953106e-21\n",
      "iteration= 6 :: free energy= 720.0000001137087\n",
      "joint prob= 1.4251640834953106e-21\n",
      "iteration= 7 :: free energy= 720.0000001137087\n",
      "joint prob= 1.4251640834953106e-21\n",
      "iteration= 8 :: free energy= 720.0000001137087\n",
      "joint prob= 1.4251640834953106e-21\n",
      "iteration= 9 :: free energy= 720.0000001137087\n",
      "joint prob= 1.4251640834953106e-21\n"
     ]
    }
   ],
   "source": [
    "beta = 4\n",
    "iterations = 10\n",
    "#initialization\n",
    "initial_prob = 0.1\n",
    "#initialization\n",
    "x_matrix = np.random.choice([1,-1],(10,10),p=[initial_prob,1-initial_prob])\n",
    "# x_matrix.fill(np.random.binomial(1,0.3))\n",
    "# x_matrix = np.random.choice([1,-1],(10,10))\n",
    "mean_matrix = np.zeros((10,10))\n",
    "mean_matrix.fill(2*initial_prob-1)\n",
    "prob_matrix = np.zeros((10,10))\n",
    "prob_matrix.fill(initial_prob)\n",
    "for e in range(iterations):\n",
    "    free_energy = 0\n",
    "    for m in range(0,10):\n",
    "        for n in range(0,10):\n",
    "            neighbours = find_neighbours(m,n)\n",
    "            temp = 0\n",
    "            for i in range(len(neighbours)):\n",
    "                temp += mean_matrix[neighbours[i]]\n",
    "            if x_matrix[m,n] == 1:\n",
    "                a_mn = beta*(temp-prob_matrix[m,n])\n",
    "            else:\n",
    "                a_mn = beta*(temp-1+prob_matrix[m,n])\n",
    "            mean_x_mn = np.tanh(a_mn)\n",
    "            mean_matrix[m,n] = mean_x_mn\n",
    "            prob_mn = np.exp(2*a_mn)/(1+np.exp(2*a_mn))\n",
    "            prob_matrix[m,n] = prob_mn\n",
    "#             x_matrix[m,n] = np.random.binomial(1,prob_mn)\n",
    "            free_energy +=  prob_mn*np.log((1-prob_mn)/prob_mn)-np.log(1-prob_mn)+mean_x_mn*temp*beta*0.5\n",
    "    print('iteration=',e,'::','free energy=',free_energy)\n",
    "    print('joint prob=',(prob_matrix[0,9])*prob_matrix[9,9])"
   ]
  },
  {
   "cell_type": "code",
   "execution_count": 171,
   "metadata": {},
   "outputs": [],
   "source": [
    "a=np.array([[1,2,3],[2,3,4]])\n",
    "b=np.array([[1,1,1],[2,2,2]])"
   ]
  },
  {
   "cell_type": "code",
   "execution_count": 172,
   "metadata": {},
   "outputs": [
    {
     "data": {
      "text/plain": [
       "array([[1, 2, 3],\n",
       "       [4, 6, 8]])"
      ]
     },
     "execution_count": 172,
     "metadata": {},
     "output_type": "execute_result"
    }
   ],
   "source": [
    "a*b"
   ]
  },
  {
   "cell_type": "code",
   "execution_count": 8,
   "metadata": {},
   "outputs": [
    {
     "name": "stdout",
     "output_type": "stream",
     "text": [
      "iteration= 0 :: free energy= nan\n",
      "joint prob= 0.24832726409581307\n",
      "iteration= 1 :: free energy= nan\n",
      "joint prob= 0.0\n",
      "iteration= 2 :: free energy= nan\n",
      "joint prob= 0.0\n",
      "iteration= 3 :: free energy= nan\n",
      "joint prob= 0.0\n",
      "iteration= 4 :: free energy= nan\n",
      "joint prob= 0.0\n",
      "iteration= 5 :: free energy= nan\n",
      "joint prob= 0.0\n",
      "iteration= 6 :: free energy= nan\n",
      "joint prob= 0.0\n",
      "iteration= 7 :: free energy= nan\n",
      "joint prob= 0.0\n",
      "iteration= 8 :: free energy= nan\n",
      "joint prob= 0.0\n",
      "iteration= 9 :: free energy= nan\n",
      "joint prob= 0.0\n",
      "iteration= 10 :: free energy= nan\n",
      "joint prob= 0.0\n",
      "iteration= 11 :: free energy= nan\n",
      "joint prob= 0.0\n",
      "iteration= 12 :: free energy= nan\n",
      "joint prob= 0.0\n",
      "iteration= 13 :: free energy= nan\n",
      "joint prob= 0.0\n",
      "iteration= 14 :: free energy= nan\n",
      "joint prob= 0.0\n"
     ]
    },
    {
     "name": "stderr",
     "output_type": "stream",
     "text": [
      "<ipython-input-8-f39984927fa9>:25: RuntimeWarning: divide by zero encountered in log\n",
      "  a_mn = beta*mu_mn+0.5*(np.log(indicator1)-np.log(indicator0))\n",
      "<ipython-input-8-f39984927fa9>:30: RuntimeWarning: divide by zero encountered in log\n",
      "  free_energy += -prob_mn*np.log(prob_mn)-(1-prob_mn)*np.log(1-prob_mn)+(1/2*beta*(indicator1*prob_matrix[m,n]+indicator0*(1-prob_matrix[m,n])))\n",
      "<ipython-input-8-f39984927fa9>:30: RuntimeWarning: invalid value encountered in double_scalars\n",
      "  free_energy += -prob_mn*np.log(prob_mn)-(1-prob_mn)*np.log(1-prob_mn)+(1/2*beta*(indicator1*prob_matrix[m,n]+indicator0*(1-prob_matrix[m,n])))\n"
     ]
    }
   ],
   "source": [
    "beta = 0.01\n",
    "iterations = 15\n",
    "initial_prob = 0.4\n",
    "#initialization\n",
    "x_matrix = np.random.choice([1,-1],(10,10),p=[initial_prob,1-initial_prob])\n",
    "# x_matrix = np.zeros((10,10))\n",
    "mean_matrix = np.zeros((10,10))\n",
    "mean_matrix.fill(2*initial_prob-1)\n",
    "prob_matrix = np.zeros((10,10))\n",
    "prob_matrix.fill(initial_prob)\n",
    "for e in range(iterations):\n",
    "    free_energy = 0\n",
    "    for m in range(0,10):\n",
    "        for n in range(0,10):\n",
    "            neighbours = find_neighbours(m,n)\n",
    "            indicator1 = 0\n",
    "            indicator0 = 0\n",
    "            mu_mn = 0\n",
    "            for i in range(len(neighbours)):\n",
    "                mu_mn = mean_matrix[neighbours[i]]\n",
    "                if x_matrix[neighbours[i]] == 1:\n",
    "                    indicator1 += 1\n",
    "                else:\n",
    "                    indicator0 += 1\n",
    "            a_mn = beta*mu_mn+0.5*(np.log(indicator1)-np.log(indicator0))\n",
    "            prob_mn = 1/(1+np.exp(-2*a_mn))\n",
    "            mean_matrix[m,n] = np.tanh(a_mn)\n",
    "            prob_matrix[m,n] = prob_mn\n",
    "            x_matrix[m,n] = np.random.binomial(1,prob_mn)\n",
    "            free_energy += -prob_mn*np.log(prob_mn)-(1-prob_mn)*np.log(1-prob_mn)+(1/2*beta*(indicator1*prob_matrix[m,n]+indicator0*(1-prob_matrix[m,n])))\n",
    "    print('iteration=',e,'::','free energy=',free_energy)\n",
    "    print('joint prob=',prob_matrix[0,9]*prob_matrix[9,9])\n",
    "#     if e > (iterations-10):\n",
    "#         print('iteration=',e,'::','free energy=',free_energy)\n",
    "#         print('joint prob=',prob_matrix[0,9]*prob_matrix[9,9])"
   ]
  },
  {
   "cell_type": "code",
   "execution_count": 13,
   "metadata": {},
   "outputs": [
    {
     "name": "stdout",
     "output_type": "stream",
     "text": [
      "iteration= 0 :: free energy= 24.629276915734955\n",
      "joint prob= 0.03242788525925409\n",
      "iteration= 1 :: free energy= 8.968303925003466\n",
      "joint prob= 0.014952917468979521\n",
      "iteration= 2 :: free energy= 8.362766820861847\n",
      "joint prob= 0.014485075431932006\n",
      "iteration= 3 :: free energy= 8.356337585892284\n",
      "joint prob= 0.014481233950078793\n",
      "iteration= 4 :: free energy= 8.356283052811037\n",
      "joint prob= 0.014481197437090733\n",
      "iteration= 5 :: free energy= 8.356282534164068\n",
      "joint prob= 0.01448119706978137\n",
      "iteration= 6 :: free energy= 8.356282529028666\n",
      "joint prob= 0.014481197066044263\n",
      "iteration= 7 :: free energy= 8.356282528977243\n",
      "joint prob= 0.014481197066006164\n",
      "iteration= 8 :: free energy= 8.356282528976724\n",
      "joint prob= 0.014481197066005773\n",
      "iteration= 9 :: free energy= 8.35628252897672\n",
      "joint prob= 0.014481197066005773\n",
      "iteration= 10 :: free energy= 8.35628252897672\n",
      "joint prob= 0.014481197066005773\n",
      "iteration= 11 :: free energy= 8.35628252897672\n",
      "joint prob= 0.014481197066005773\n",
      "iteration= 12 :: free energy= 8.35628252897672\n",
      "joint prob= 0.014481197066005773\n",
      "iteration= 13 :: free energy= 8.35628252897672\n",
      "joint prob= 0.014481197066005773\n",
      "iteration= 14 :: free energy= 8.35628252897672\n",
      "joint prob= 0.014481197066005773\n",
      "iteration= 15 :: free energy= 8.35628252897672\n",
      "joint prob= 0.014481197066005773\n",
      "iteration= 16 :: free energy= 8.35628252897672\n",
      "joint prob= 0.014481197066005773\n",
      "iteration= 17 :: free energy= 8.35628252897672\n",
      "joint prob= 0.014481197066005773\n",
      "iteration= 18 :: free energy= 8.35628252897672\n",
      "joint prob= 0.014481197066005773\n",
      "iteration= 19 :: free energy= 8.35628252897672\n",
      "joint prob= 0.014481197066005773\n",
      "iteration= 20 :: free energy= 8.35628252897672\n",
      "joint prob= 0.014481197066005773\n",
      "iteration= 21 :: free energy= 8.35628252897672\n",
      "joint prob= 0.014481197066005773\n",
      "iteration= 22 :: free energy= 8.35628252897672\n",
      "joint prob= 0.014481197066005773\n",
      "iteration= 23 :: free energy= 8.35628252897672\n",
      "joint prob= 0.014481197066005773\n",
      "iteration= 24 :: free energy= 8.35628252897672\n",
      "joint prob= 0.014481197066005773\n",
      "iteration= 25 :: free energy= 8.35628252897672\n",
      "joint prob= 0.014481197066005773\n",
      "iteration= 26 :: free energy= 8.35628252897672\n",
      "joint prob= 0.014481197066005773\n",
      "iteration= 27 :: free energy= 8.35628252897672\n",
      "joint prob= 0.014481197066005773\n",
      "iteration= 28 :: free energy= 8.35628252897672\n",
      "joint prob= 0.014481197066005773\n",
      "iteration= 29 :: free energy= 8.35628252897672\n",
      "joint prob= 0.014481197066005773\n"
     ]
    }
   ],
   "source": [
    "beta = 1\n",
    "iterations = 30\n",
    "initial_prob = 0.4\n",
    "#initialization\n",
    "x_matrix = np.random.choice([1,-1],(10,10),p=[initial_prob,1-initial_prob])\n",
    "# x_matrix = np.zeros((10,10))\n",
    "mean_matrix = np.zeros((10,10))\n",
    "mean_matrix.fill(2*initial_prob-1)\n",
    "prob_matrix = np.zeros((10,10))\n",
    "prob_matrix.fill(initial_prob)\n",
    "for e in range(iterations):\n",
    "    free_energy = 0\n",
    "    for m in range(0,10):\n",
    "        for n in range(0,10):\n",
    "            neighbours = find_neighbours(m,n)\n",
    "            indicator = 0\n",
    "            for i in range(len(neighbours)):\n",
    "                indicator += mean_matrix[neighbours[i]]*beta\n",
    "            prob_mn = 1/(1+np.exp(-indicator))\n",
    "            prob_matrix[m,n] = prob_mn\n",
    "            mean_matrix[m,n] = np.tanh(indicator)\n",
    "            free_energy += -prob_mn*np.log(prob_mn)-(1-prob_mn)*np.log(1-prob_mn)+(1/2*beta*prob_mn*indicator)\n",
    "    print('iteration=',e,'::','free energy=',free_energy)\n",
    "    print('joint prob=',prob_matrix[0,9]*prob_matrix[9,9])"
   ]
  },
  {
   "cell_type": "code",
   "execution_count": 98,
   "metadata": {},
   "outputs": [
    {
     "data": {
      "text/plain": [
       "array([[1, 0],\n",
       "       [1, 2]])"
      ]
     },
     "execution_count": 98,
     "metadata": {},
     "output_type": "execute_result"
    }
   ],
   "source": [
    "np.random.binomial(5,0.4,(2,2))"
   ]
  },
  {
   "cell_type": "code",
   "execution_count": 93,
   "metadata": {},
   "outputs": [],
   "source": [
    "prob_matrix = np.zeros((10,10))\n",
    "prob_matrix.fill(0.5)"
   ]
  },
  {
   "cell_type": "code",
   "execution_count": 20,
   "metadata": {},
   "outputs": [
    {
     "data": {
      "text/plain": [
       "0"
      ]
     },
     "execution_count": 20,
     "metadata": {},
     "output_type": "execute_result"
    }
   ],
   "source": [
    "np.random.binomial(1,0.5)"
   ]
  },
  {
   "cell_type": "code",
   "execution_count": 119,
   "metadata": {},
   "outputs": [
    {
     "data": {
      "text/plain": [
       "0.5"
      ]
     },
     "execution_count": 119,
     "metadata": {},
     "output_type": "execute_result"
    }
   ],
   "source": [
    "1/2"
   ]
  },
  {
   "cell_type": "code",
   "execution_count": null,
   "metadata": {},
   "outputs": [],
   "source": []
  }
 ],
 "metadata": {
  "kernelspec": {
   "display_name": "Python 3",
   "language": "python",
   "name": "python3"
  },
  "language_info": {
   "codemirror_mode": {
    "name": "ipython",
    "version": 3
   },
   "file_extension": ".py",
   "mimetype": "text/x-python",
   "name": "python",
   "nbconvert_exporter": "python",
   "pygments_lexer": "ipython3",
   "version": "3.8.5"
  }
 },
 "nbformat": 4,
 "nbformat_minor": 4
}
